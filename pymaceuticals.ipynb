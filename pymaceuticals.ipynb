{
 "cells": [
  {
   "cell_type": "markdown",
   "metadata": {},
   "source": [
    "## Observations and Insights"
   ]
  },
  {
   "cell_type": "markdown",
   "metadata": {},
   "source": [
    "## "
   ]
  },
  {
   "cell_type": "markdown",
   "metadata": {},
   "source": [
    "## Dependencies"
   ]
  },
  {
   "cell_type": "code",
   "execution_count": 36,
   "metadata": {},
   "outputs": [
    {
     "data": {
      "text/html": [
       "<div>\n",
       "<style scoped>\n",
       "    .dataframe tbody tr th:only-of-type {\n",
       "        vertical-align: middle;\n",
       "    }\n",
       "\n",
       "    .dataframe tbody tr th {\n",
       "        vertical-align: top;\n",
       "    }\n",
       "\n",
       "    .dataframe thead th {\n",
       "        text-align: right;\n",
       "    }\n",
       "</style>\n",
       "<table border=\"1\" class=\"dataframe\">\n",
       "  <thead>\n",
       "    <tr style=\"text-align: right;\">\n",
       "      <th></th>\n",
       "      <th>Mouse ID</th>\n",
       "      <th>Drug Regimen</th>\n",
       "      <th>Sex</th>\n",
       "      <th>Age_months</th>\n",
       "      <th>Weight (g)</th>\n",
       "      <th>Timepoint</th>\n",
       "      <th>Tumor Volume (mm3)</th>\n",
       "      <th>Metastatic Sites</th>\n",
       "    </tr>\n",
       "  </thead>\n",
       "  <tbody>\n",
       "    <tr>\n",
       "      <th>0</th>\n",
       "      <td>k403</td>\n",
       "      <td>Ramicane</td>\n",
       "      <td>Male</td>\n",
       "      <td>21</td>\n",
       "      <td>16</td>\n",
       "      <td>0</td>\n",
       "      <td>45.000000</td>\n",
       "      <td>0</td>\n",
       "    </tr>\n",
       "    <tr>\n",
       "      <th>1</th>\n",
       "      <td>k403</td>\n",
       "      <td>Ramicane</td>\n",
       "      <td>Male</td>\n",
       "      <td>21</td>\n",
       "      <td>16</td>\n",
       "      <td>5</td>\n",
       "      <td>38.825898</td>\n",
       "      <td>0</td>\n",
       "    </tr>\n",
       "    <tr>\n",
       "      <th>2</th>\n",
       "      <td>k403</td>\n",
       "      <td>Ramicane</td>\n",
       "      <td>Male</td>\n",
       "      <td>21</td>\n",
       "      <td>16</td>\n",
       "      <td>10</td>\n",
       "      <td>35.014271</td>\n",
       "      <td>1</td>\n",
       "    </tr>\n",
       "    <tr>\n",
       "      <th>3</th>\n",
       "      <td>k403</td>\n",
       "      <td>Ramicane</td>\n",
       "      <td>Male</td>\n",
       "      <td>21</td>\n",
       "      <td>16</td>\n",
       "      <td>15</td>\n",
       "      <td>34.223992</td>\n",
       "      <td>1</td>\n",
       "    </tr>\n",
       "    <tr>\n",
       "      <th>4</th>\n",
       "      <td>k403</td>\n",
       "      <td>Ramicane</td>\n",
       "      <td>Male</td>\n",
       "      <td>21</td>\n",
       "      <td>16</td>\n",
       "      <td>20</td>\n",
       "      <td>32.997729</td>\n",
       "      <td>1</td>\n",
       "    </tr>\n",
       "  </tbody>\n",
       "</table>\n",
       "</div>"
      ],
      "text/plain": [
       "  Mouse ID Drug Regimen   Sex  Age_months  Weight (g)  Timepoint  \\\n",
       "0     k403     Ramicane  Male          21          16          0   \n",
       "1     k403     Ramicane  Male          21          16          5   \n",
       "2     k403     Ramicane  Male          21          16         10   \n",
       "3     k403     Ramicane  Male          21          16         15   \n",
       "4     k403     Ramicane  Male          21          16         20   \n",
       "\n",
       "   Tumor Volume (mm3)  Metastatic Sites  \n",
       "0           45.000000                 0  \n",
       "1           38.825898                 0  \n",
       "2           35.014271                 1  \n",
       "3           34.223992                 1  \n",
       "4           32.997729                 1  "
      ]
     },
     "execution_count": 36,
     "metadata": {},
     "output_type": "execute_result"
    }
   ],
   "source": [
    "# Dependencies and Setup\n",
    "import matplotlib.pyplot as plt\n",
    "import pandas as pd\n",
    "import scipy.stats as sts\n",
    "import numpy as np\n",
    "from scipy.stats import sem\n",
    "from scipy.stats import linregress\n",
    "\n",
    "\n",
    "# Study data files\n",
    "mouse_metadata = \"Resources/Mouse_metadata.csv\"\n",
    "study_results = \"Resources/Study_results.csv\"\n",
    "\n",
    "# Read the mouse data and the study results\n",
    "mouse_metadata = pd.read_csv(mouse_metadata)\n",
    "study_results = pd.read_csv(study_results)\n",
    "\n",
    "                        \n",
    "# Combine the data into a single dataset\n",
    "merged= pd.merge(mouse_metadata, study_results, on=\"Mouse ID\", how=\"outer\")\n",
    "mouse_df = pd.DataFrame(merged)\n",
    "mouse_df.head()"
   ]
  },
  {
   "cell_type": "markdown",
   "metadata": {},
   "source": [
    "## Summary statistics"
   ]
  },
  {
   "cell_type": "code",
   "execution_count": 3,
   "metadata": {},
   "outputs": [
    {
     "data": {
      "text/html": [
       "<div>\n",
       "<style scoped>\n",
       "    .dataframe tbody tr th:only-of-type {\n",
       "        vertical-align: middle;\n",
       "    }\n",
       "\n",
       "    .dataframe tbody tr th {\n",
       "        vertical-align: top;\n",
       "    }\n",
       "\n",
       "    .dataframe thead th {\n",
       "        text-align: right;\n",
       "    }\n",
       "</style>\n",
       "<table border=\"1\" class=\"dataframe\">\n",
       "  <thead>\n",
       "    <tr style=\"text-align: right;\">\n",
       "      <th></th>\n",
       "      <th>Mean</th>\n",
       "      <th>Median</th>\n",
       "      <th>Variance</th>\n",
       "      <th>Standart deviation</th>\n",
       "      <th>SEM</th>\n",
       "    </tr>\n",
       "    <tr>\n",
       "      <th>Drug Regimen</th>\n",
       "      <th></th>\n",
       "      <th></th>\n",
       "      <th></th>\n",
       "      <th></th>\n",
       "      <th></th>\n",
       "    </tr>\n",
       "  </thead>\n",
       "  <tbody>\n",
       "    <tr>\n",
       "      <th>Capomulin</th>\n",
       "      <td>40.675741</td>\n",
       "      <td>41.557809</td>\n",
       "      <td>24.947764</td>\n",
       "      <td>4.994774</td>\n",
       "      <td>0.329346</td>\n",
       "    </tr>\n",
       "    <tr>\n",
       "      <th>Ceftamin</th>\n",
       "      <td>52.591172</td>\n",
       "      <td>51.776157</td>\n",
       "      <td>39.290177</td>\n",
       "      <td>6.268188</td>\n",
       "      <td>0.469821</td>\n",
       "    </tr>\n",
       "    <tr>\n",
       "      <th>Infubinol</th>\n",
       "      <td>52.884795</td>\n",
       "      <td>51.820584</td>\n",
       "      <td>43.128684</td>\n",
       "      <td>6.567243</td>\n",
       "      <td>0.492236</td>\n",
       "    </tr>\n",
       "    <tr>\n",
       "      <th>Ketapril</th>\n",
       "      <td>55.235638</td>\n",
       "      <td>53.698743</td>\n",
       "      <td>68.553577</td>\n",
       "      <td>8.279709</td>\n",
       "      <td>0.603860</td>\n",
       "    </tr>\n",
       "    <tr>\n",
       "      <th>Naftisol</th>\n",
       "      <td>54.331565</td>\n",
       "      <td>52.509285</td>\n",
       "      <td>66.173479</td>\n",
       "      <td>8.134708</td>\n",
       "      <td>0.596466</td>\n",
       "    </tr>\n",
       "    <tr>\n",
       "      <th>Placebo</th>\n",
       "      <td>54.033581</td>\n",
       "      <td>52.288934</td>\n",
       "      <td>61.168083</td>\n",
       "      <td>7.821003</td>\n",
       "      <td>0.581331</td>\n",
       "    </tr>\n",
       "    <tr>\n",
       "      <th>Propriva</th>\n",
       "      <td>52.322552</td>\n",
       "      <td>50.854632</td>\n",
       "      <td>42.351070</td>\n",
       "      <td>6.507770</td>\n",
       "      <td>0.512884</td>\n",
       "    </tr>\n",
       "    <tr>\n",
       "      <th>Ramicane</th>\n",
       "      <td>40.216745</td>\n",
       "      <td>40.673236</td>\n",
       "      <td>23.486704</td>\n",
       "      <td>4.846308</td>\n",
       "      <td>0.320955</td>\n",
       "    </tr>\n",
       "    <tr>\n",
       "      <th>Stelasyn</th>\n",
       "      <td>54.233149</td>\n",
       "      <td>52.431737</td>\n",
       "      <td>59.450562</td>\n",
       "      <td>7.710419</td>\n",
       "      <td>0.573111</td>\n",
       "    </tr>\n",
       "    <tr>\n",
       "      <th>Zoniferol</th>\n",
       "      <td>53.236507</td>\n",
       "      <td>51.818479</td>\n",
       "      <td>48.533355</td>\n",
       "      <td>6.966589</td>\n",
       "      <td>0.516398</td>\n",
       "    </tr>\n",
       "  </tbody>\n",
       "</table>\n",
       "</div>"
      ],
      "text/plain": [
       "                   Mean     Median   Variance  Standart deviation       SEM\n",
       "Drug Regimen                                                               \n",
       "Capomulin     40.675741  41.557809  24.947764            4.994774  0.329346\n",
       "Ceftamin      52.591172  51.776157  39.290177            6.268188  0.469821\n",
       "Infubinol     52.884795  51.820584  43.128684            6.567243  0.492236\n",
       "Ketapril      55.235638  53.698743  68.553577            8.279709  0.603860\n",
       "Naftisol      54.331565  52.509285  66.173479            8.134708  0.596466\n",
       "Placebo       54.033581  52.288934  61.168083            7.821003  0.581331\n",
       "Propriva      52.322552  50.854632  42.351070            6.507770  0.512884\n",
       "Ramicane      40.216745  40.673236  23.486704            4.846308  0.320955\n",
       "Stelasyn      54.233149  52.431737  59.450562            7.710419  0.573111\n",
       "Zoniferol     53.236507  51.818479  48.533355            6.966589  0.516398"
      ]
     },
     "execution_count": 3,
     "metadata": {},
     "output_type": "execute_result"
    }
   ],
   "source": [
    "regimen_df = pd.DataFrame({\n",
    "    'Mean':mouse_df.groupby('Drug Regimen').mean()['Tumor Volume (mm3)'],\n",
    "    'Median':mouse_df.groupby('Drug Regimen').median()['Tumor Volume (mm3)'],\n",
    "    'Variance':mouse_df.groupby('Drug Regimen').var()['Tumor Volume (mm3)'],\n",
    "    'Standart deviation':mouse_df.groupby('Drug Regimen').std()['Tumor Volume (mm3)'],\n",
    "    'SEM':mouse_df.groupby('Drug Regimen').sem()['Tumor Volume (mm3)']\n",
    "})\n",
    "regimen_df"
   ]
  },
  {
   "cell_type": "markdown",
   "metadata": {},
   "source": [
    "## Bar plots"
   ]
  },
  {
   "cell_type": "code",
   "execution_count": 37,
   "metadata": {},
   "outputs": [
    {
     "data": {
      "image/png": "[encoded data removed]",
      "text/plain": [
       "<Figure size 432x288 with 1 Axes>"
      ]
     },
     "metadata": {
      "needs_background": "light"
     },
     "output_type": "display_data"
    }
   ],
   "source": [
    "# Generate a bar plot showing number of data points for each treatment regimen using pyplot\n",
    "\n",
    "treatment_group = mouse_df.groupby(\"Drug Regimen\")\n",
    "treatment_df = pd.DataFrame(treatment_group.count())\n",
    "\n",
    "x_axis = mouse_df[\"Drug Regimen\"].unique()\n",
    "y_axis = treatment_df[\"Mouse ID\"]\n",
    "\n",
    "plt.bar(x_axis, y_axis, color='teal', alpha=1, align=\"center\")\n",
    "plt.xticks(rotation=90)\n",
    "plt.xlabel(\"Drug Regimen\")\n",
    "plt.ylabel(\"Number of Data Points\")\n",
    "plt.title(\"Number of Data Points by Treatment Group\")\n",
    "\n",
    "plt.savefig(\"Figures/mouse_pltbar.png\")\n"
   ]
  },
  {
   "cell_type": "code",
   "execution_count": 38,
   "metadata": {},
   "outputs": [
    {
     "data": {
      "image/png": "[encoded data removed]",
      "text/plain": [
       "<Figure size 432x288 with 1 Axes>"
      ]
     },
     "metadata": {
      "needs_background": "light"
     },
     "output_type": "display_data"
    }
   ],
   "source": [
    "# Generate a bar plot showing number of data points for each treatment regimen using pandas\n",
    "\n",
    "treatment_df[\"Mouse ID\"].plot(kind=\"bar\", color=\"teal\")\n",
    "\n",
    "plt.xlabel(\"Drug Regimen\")\n",
    "plt.ylabel(\"Number of Data Points\")\n",
    "plt.title(\"Number of Data Points by Treatment Group\")\n",
    "\n",
    "plt.savefig(\"Figures/mouse_plotbar.png\")\n"
   ]
  },
  {
   "cell_type": "markdown",
   "metadata": {},
   "source": [
    "## Pie plots"
   ]
  },
  {
   "cell_type": "code",
   "execution_count": 48,
   "metadata": {},
   "outputs": [
    {
     "data": {
      "image/png": "[encoded data removed]",
      "text/plain": [
       "<Figure size 432x288 with 1 Axes>"
      ]
     },
     "metadata": {},
     "output_type": "display_data"
    }
   ],
   "source": [
    "# Generate a pie plot showing the distribution of female versus male mice using pandas\n",
    "\n",
    "mf_df = mouse_df[\"Sex\"].value_counts()\n",
    "male = mf_df[\"Male\"]\n",
    "female = mf_df[\"Female\"]\n",
    "mf = [male, female]\n",
    "\n",
    "labels = [\"Male\", \"Female\"]\n",
    "colors = [\"pink\", \"orange\"]\n",
    "\n",
    "plt.pie(mf, labels=labels, colors=colors,\n",
    "        autopct=\"%1.1f%%\", shadow=True, startangle=140)\n",
    "\n",
    "plt.title(\"Percentage of Males vs. Females\")\n",
    "\n",
    "plt.savefig(\"Figures/mouse_pltpie.png\")"
   ]
  },
  {
   "cell_type": "code",
   "execution_count": 49,
   "metadata": {},
   "outputs": [
    {
     "data": {
      "image/png": "[encoded data removed]",
      "text/plain": [
       "<Figure size 432x288 with 1 Axes>"
      ]
     },
     "metadata": {},
     "output_type": "display_data"
    }
   ],
   "source": [
    "# Generate a pie plot showing the distribution of female versus male mice using pyplot\n",
    "\n",
    "mf_df.plot(kind=\"pie\", labels=labels, colors=colors,\n",
    "        autopct=\"%1.1f%%\", shadow=True, startangle=140)\n",
    "plt.title(\"Percentage of Males vs. Females\")\n",
    "\n",
    "plt.savefig(\"Figures/mouse_plotpie.png\")\n"
   ]
  },
  {
   "cell_type": "code",
   "execution_count": null,
   "metadata": {},
   "outputs": [],
   "source": []
  },
  {
   "cell_type": "markdown",
   "metadata": {},
   "source": [
    "## Quartiles, outliers and boxplots"
   ]
  },
  {
   "cell_type": "code",
   "execution_count": 50,
   "metadata": {},
   "outputs": [
    {
     "data": {
      "text/html": [
       "<div>\n",
       "<style scoped>\n",
       "    .dataframe tbody tr th:only-of-type {\n",
       "        vertical-align: middle;\n",
       "    }\n",
       "\n",
       "    .dataframe tbody tr th {\n",
       "        vertical-align: top;\n",
       "    }\n",
       "\n",
       "    .dataframe thead th {\n",
       "        text-align: right;\n",
       "    }\n",
       "</style>\n",
       "<table border=\"1\" class=\"dataframe\">\n",
       "  <thead>\n",
       "    <tr style=\"text-align: right;\">\n",
       "      <th></th>\n",
       "      <th>Drug Regimen</th>\n",
       "      <th>Lower Quartile</th>\n",
       "      <th>Upper Quartile</th>\n",
       "      <th>Inter Quartile Range</th>\n",
       "      <th>Low Outliers</th>\n",
       "      <th>High Outliers</th>\n",
       "    </tr>\n",
       "  </thead>\n",
       "  <tbody>\n",
       "    <tr>\n",
       "      <th>0</th>\n",
       "      <td>Ramicane</td>\n",
       "      <td>30.981175</td>\n",
       "      <td>38.508305</td>\n",
       "      <td>7.527130</td>\n",
       "      <td>19.690480</td>\n",
       "      <td>49.799000</td>\n",
       "    </tr>\n",
       "    <tr>\n",
       "      <th>1</th>\n",
       "      <td>Capomulin</td>\n",
       "      <td>32.377357</td>\n",
       "      <td>40.159220</td>\n",
       "      <td>7.781863</td>\n",
       "      <td>20.704562</td>\n",
       "      <td>51.832015</td>\n",
       "    </tr>\n",
       "    <tr>\n",
       "      <th>2</th>\n",
       "      <td>Infubinol</td>\n",
       "      <td>62.754451</td>\n",
       "      <td>67.685569</td>\n",
       "      <td>4.931117</td>\n",
       "      <td>55.357776</td>\n",
       "      <td>75.082244</td>\n",
       "    </tr>\n",
       "    <tr>\n",
       "      <th>3</th>\n",
       "      <td>Placebo</td>\n",
       "      <td>65.955820</td>\n",
       "      <td>71.486792</td>\n",
       "      <td>5.530972</td>\n",
       "      <td>57.659362</td>\n",
       "      <td>79.783249</td>\n",
       "    </tr>\n",
       "  </tbody>\n",
       "</table>\n",
       "</div>"
      ],
      "text/plain": [
       "  Drug Regimen  Lower Quartile  Upper Quartile  Inter Quartile Range  \\\n",
       "0     Ramicane       30.981175       38.508305              7.527130   \n",
       "1    Capomulin       32.377357       40.159220              7.781863   \n",
       "2    Infubinol       62.754451       67.685569              4.931117   \n",
       "3      Placebo       65.955820       71.486792              5.530972   \n",
       "\n",
       "   Low Outliers  High Outliers  \n",
       "0     19.690480      49.799000  \n",
       "1     20.704562      51.832015  \n",
       "2     55.357776      75.082244  \n",
       "3     57.659362      79.783249  "
      ]
     },
     "execution_count": 50,
     "metadata": {},
     "output_type": "execute_result"
    }
   ],
   "source": [
    "# Calculate the final tumor volume of each mouse across four of the most promising treatment regimens. Calculate the IQR and quantitatively determine if there are any potential outliers.\n",
    "\n",
    "ending_volume = mouse_df.set_index(\"Timepoint\").loc[45, :]\n",
    "                                    \n",
    "regimen_endingv = ending_volume.set_index(\"Drug Regimen\")\n",
    "\n",
    "Ramicane = regimen_endingv.loc[\"Ramicane\", \"Tumor Volume (mm3)\"]\n",
    "Capomulin = regimen_endingv.loc[\"Capomulin\", \"Tumor Volume (mm3)\"]\n",
    "Infubinol = regimen_endingv.loc[\"Infubinol\", \"Tumor Volume (mm3)\"]\n",
    "Placebo = regimen_endingv.loc[\"Placebo\", \"Tumor Volume (mm3)\"]\n",
    "\n",
    "ram_quartiles = Ramicane.quantile([.25,.5,.75])\n",
    "ram_lowerq = ram_quartiles[0.25]\n",
    "ram_upperq = ram_quartiles[0.75]\n",
    "ram_iqr = ram_upperq-ram_lowerq\n",
    "ram_lower_bound = ram_lowerq - (1.5*ram_iqr)\n",
    "ram_upper_bound = ram_upperq + (1.5*ram_iqr)\n",
    "\n",
    "cap_quartiles = Capomulin.quantile([.25,.5,.75])\n",
    "cap_lowerq = cap_quartiles[0.25]\n",
    "cap_upperq = cap_quartiles[0.75]\n",
    "cap_iqr = cap_upperq-cap_lowerq\n",
    "cap_lower_bound = cap_lowerq - (1.5*cap_iqr)\n",
    "cap_upper_bound = cap_upperq + (1.5*cap_iqr)\n",
    "\n",
    "inf_quartiles = Infubinol.quantile([.25,.5,.75])\n",
    "inf_lowerq = inf_quartiles[0.25]\n",
    "inf_upperq = inf_quartiles[0.75]\n",
    "inf_iqr = inf_upperq-inf_lowerq\n",
    "inf_lower_bound = inf_lowerq - (1.5*inf_iqr)\n",
    "inf_upper_bound = inf_upperq + (1.5*inf_iqr)\n",
    "\n",
    "pla_quartiles = Placebo.quantile([.25,.5,.75])\n",
    "pla_lowerq = pla_quartiles[0.25]\n",
    "pla_upperq = pla_quartiles[0.75]\n",
    "pla_iqr = pla_upperq-pla_lowerq\n",
    "pla_lower_bound = pla_lowerq - (1.5*pla_iqr)\n",
    "pla_upper_bound = pla_upperq + (1.5*pla_iqr)\n",
    "\n",
    "\n",
    "iqr_df = pd.DataFrame({\"Drug Regimen\": [\"Ramicane\",\"Capomulin\",\"Infubinol\",\"Placebo\"],\n",
    "                      \"Lower Quartile\": [ram_lowerq, cap_lowerq, inf_lowerq, pla_lowerq],\n",
    "                      \"Upper Quartile\": [ram_upperq, cap_upperq, inf_upperq, pla_upperq],\n",
    "                      \"Inter Quartile Range\": [ram_iqr, cap_iqr, inf_iqr, pla_iqr],\n",
    "                    \"Low Outliers\": [ram_lower_bound, cap_lower_bound, inf_lower_bound, pla_lower_bound],\n",
    "                       \"High Outliers\": [ram_upper_bound, cap_upper_bound, inf_upper_bound, pla_upper_bound],\n",
    "                      })\n",
    "iqr_df"
   ]
  },
  {
   "cell_type": "code",
   "execution_count": 53,
   "metadata": {},
   "outputs": [
    {
     "data": {
      "image/png": "[encoded data removed]",
      "text/plain": [
       "<Figure size 432x288 with 1 Axes>"
      ]
     },
     "metadata": {
      "needs_background": "light"
     },
     "output_type": "display_data"
    }
   ],
   "source": [
    "# Generate a box plot of the final tumor volume of each mouse across four regimens of interest\n",
    "ending_volume = mouse_df.set_index(\"Timepoint\").loc[45, :]\n",
    "                                    \n",
    "regimen_endingv = ending_volume.set_index(\"Drug Regimen\")\n",
    "\n",
    "Ramicane = regimen_endingv.loc[\"Ramicane\", \"Tumor Volume (mm3)\"].to_list()\n",
    "Capomulin = regimen_endingv.loc[\"Capomulin\", \"Tumor Volume (mm3)\"].to_list()\n",
    "Infubinol = regimen_endingv.loc[\"Infubinol\", \"Tumor Volume (mm3)\"].to_list()\n",
    "Placebo = regimen_endingv.loc[\"Placebo\", \"Tumor Volume (mm3)\"].to_list()\n",
    "\n",
    "\n",
    "data = (Ramicane, Capomulin, Infubinol, Placebo)\n",
    "labels = [\"Ramicane\",\"Capomulin\",\"Infubinol\",\"Placebo\"]\n",
    "\n",
    "fig1, ax1 = plt.subplots()\n",
    "bplot1 = ax1.boxplot(data, vert=True, patch_artist=True, labels=labels)  \n",
    "ax1.set_title('Final Tumor Volume by Drug Regimen')\n",
    "ax1.set_ylabel('Tumor Volume (mm3)')\n",
    "\n",
    "plt.savefig(\"Figures/mouse_boxplot.png\")"
   ]
  },
  {
   "cell_type": "markdown",
   "metadata": {},
   "source": [
    "## Line and scatter plots"
   ]
  },
  {
   "cell_type": "code",
   "execution_count": 54,
   "metadata": {},
   "outputs": [
    {
     "data": {
      "image/png": "[encoded data removed]",
      "text/plain": [
       "<Figure size 432x288 with 1 Axes>"
      ]
     },
     "metadata": {
      "needs_background": "light"
     },
     "output_type": "display_data"
    }
   ],
   "source": [
    "# Generate a line plot of time point versus tumor volume for a mouse treated with Capomulin\n",
    "treatment_index = mouse_df.set_index(\"Drug Regimen\")\n",
    "\n",
    "timepoint_tumor = treatment_index.loc[\"Capomulin\", \"Timepoint\":\"Tumor Volume (mm3)\"]\n",
    "onemouse = timepoint_tumor.iloc[0:10, :]\n",
    "\n",
    "timepoint = onemouse[\"Timepoint\"].to_list()\n",
    "tumor = onemouse[\"Tumor Volume (mm3)\"].to_list()\n",
    "\n",
    "\n",
    "plt.plot(timepoint, tumor)\n",
    "plt.xlabel(\"Days Since Treatment\")\n",
    "plt.ylabel(\"Tumor Volume (mm3)\")\n",
    "plt.title(\"Reduction in Tumor Volume (mm3) over Time (days) in One Mouse\")\n",
    "\n",
    "plt.savefig(\"Figures/mouse_lineplot.png\")"
   ]
  },
  {
   "cell_type": "code",
   "execution_count": 55,
   "metadata": {},
   "outputs": [
    {
     "data": {
      "image/png": "[encoded data removed]",
      "text/plain": [
       "<Figure size 432x288 with 1 Axes>"
      ]
     },
     "metadata": {
      "needs_background": "light"
     },
     "output_type": "display_data"
    },
    {
     "name": "stdout",
     "output_type": "stream",
     "text": [
      "y = 0.95x + 21.55\n"
     ]
    }
   ],
   "source": [
    "capodf = mouse_df.set_index(\"Drug Regimen\").loc[\"Capomulin\", :] \n",
    "grouped_capo = capodf.groupby(\"Mouse ID\") \n",
    "scatter_df = pd.DataFrame(grouped_capo.mean())\n",
    "\n",
    "weight_regress = scatter_df.loc[:, \"Weight (g)\"].astype('float64') \n",
    "tumorv_regress = scatter_df.loc[:, \"Tumor Volume (mm3)\"].astype('float64')\n",
    "\n",
    "\n",
    "plt.xlabel(\"Mouse Weight (g)\") \n",
    "plt.ylabel(\"Tumor Volume (mm3)\") \n",
    "plt.title(\"Average Tumor Volume (mm3) vs. Mouse Weight (g)\")\n",
    "\n",
    "(slope, intercept, rvalue, pvalue, stderr) = linregress(weight_regress, tumorv_regress)\n",
    "regress_values = weight_regress * slope + intercept\n",
    "line_eq = \"y = \" + str(round(slope,2)) + \"x + \" + str(round(intercept,2))\n",
    "plt.scatter(weight_regress,tumorv_regress)\n",
    "plt.plot(weight_regress,regress_values,\"r-\")\n",
    "plt.annotate(line_eq,(6,10),fontsize=15,color=\"red\")\n",
    "\n",
    "plt.savefig(\"Figures/mouse_scatterplot.png\")\n",
    "\n",
    "plt.show()\n",
    "print(line_eq)"
   ]
  },
  {
   "cell_type": "code",
   "execution_count": null,
   "metadata": {},
   "outputs": [],
   "source": []
  }
 ],
 "metadata": {
  "anaconda-cloud": {},
  "kernelspec": {
   "display_name": "Python 3",
   "language": "python",
   "name": "python3"
  },
  "language_info": {
   "codemirror_mode": {
    "name": "ipython",
    "version": 3
   },
   "file_extension": ".py",
   "mimetype": "text/x-python",
   "name": "python",
   "nbconvert_exporter": "python",
   "pygments_lexer": "ipython3",
   "version": "3.7.3"
  }
 },
 "nbformat": 4,
 "nbformat_minor": 2
}
